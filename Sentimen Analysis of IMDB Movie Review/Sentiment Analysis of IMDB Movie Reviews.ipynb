{
 "cells": [
  {
   "cell_type": "markdown",
   "id": "36a7f52c",
   "metadata": {},
   "source": [
    "# Sentiment Analysis of IMDB Movie Reviews\n",
    "# Data-Driven Insights\n",
    "Sentiment analysis allows for the extraction of valuable insights from a large volume of unstructured data. By analyzing sentiments, you can gain a deeper understanding of how viewers perceive a movie, which can inform decision-making.\n",
    "\n",
    "# Real-time Feedback\n",
    "IMDB reviews provide real-time feedback from a diverse audience. Filmmakers and studios can monitor public sentiment immediately after a movie's release, enabling them to respond quickly to positive or negative trends.\n",
    "\n",
    "# Market Research\n",
    "Sentiment analysis helps in market research by identifying trends in movie preferences. This information is useful for studios and producers to make data-driven decisions regarding future film projects, genres, or casting choices.\n",
    "\n",
    "# Quality Assessment\n",
    "Filmmakers can use sentiment analysis to assess the quality of their work. By understanding what aspects of a movie resonate with viewers and which ones don't, they can focus on improving their storytelling, cinematography, and other elements.\n",
    "\n",
    "# Marketing and Promotion\n",
    "Positive sentiment analysis can be leveraged in marketing campaigns. Movie studios can highlight positive reviews and audience reactions to attract more viewers and generate buzz around a film, which can positively impact its box office performance.\n",
    "\n",
    "Overall, sentiment analysis of IMDB movie reviews offers actionable insights that can benefit filmmakers, studios, and the film industry as a whole. It provides a data-driven approach to understanding audience preferences and improving the quality of movies."
   ]
  },
  {
   "cell_type": "markdown",
   "id": "0ab05f53",
   "metadata": {},
   "source": [
    "# Importing Necessary Libraries"
   ]
  },
  {
   "cell_type": "code",
   "execution_count": 2,
   "id": "5b3947f6",
   "metadata": {},
   "outputs": [],
   "source": [
    "import pandas as pd\n",
    "import numpy as np\n",
    "import nltk\n",
    "import re\n",
    "from nltk.corpus import stopwords\n",
    "from sklearn.feature_extraction.text import CountVectorizer"
   ]
  },
  {
   "cell_type": "markdown",
   "id": "f9a056a1",
   "metadata": {},
   "source": [
    "# Reading Dataset"
   ]
  },
  {
   "cell_type": "code",
   "execution_count": 47,
   "id": "18f60ea5",
   "metadata": {},
   "outputs": [],
   "source": [
    "df=pd.read_csv('IMDB Dataset.csv')"
   ]
  },
  {
   "cell_type": "code",
   "execution_count": 262,
   "id": "820933a0",
   "metadata": {},
   "outputs": [
    {
     "data": {
      "text/html": [
       "<div>\n",
       "<style scoped>\n",
       "    .dataframe tbody tr th:only-of-type {\n",
       "        vertical-align: middle;\n",
       "    }\n",
       "\n",
       "    .dataframe tbody tr th {\n",
       "        vertical-align: top;\n",
       "    }\n",
       "\n",
       "    .dataframe thead th {\n",
       "        text-align: right;\n",
       "    }\n",
       "</style>\n",
       "<table border=\"1\" class=\"dataframe\">\n",
       "  <thead>\n",
       "    <tr style=\"text-align: right;\">\n",
       "      <th></th>\n",
       "      <th>review</th>\n",
       "      <th>sentiment</th>\n",
       "    </tr>\n",
       "  </thead>\n",
       "  <tbody>\n",
       "    <tr>\n",
       "      <th>0</th>\n",
       "      <td>One of the other reviewers has mentioned that ...</td>\n",
       "      <td>positive</td>\n",
       "    </tr>\n",
       "    <tr>\n",
       "      <th>1</th>\n",
       "      <td>A wonderful little production. &lt;br /&gt;&lt;br /&gt;The...</td>\n",
       "      <td>positive</td>\n",
       "    </tr>\n",
       "    <tr>\n",
       "      <th>2</th>\n",
       "      <td>I thought this was a wonderful way to spend ti...</td>\n",
       "      <td>positive</td>\n",
       "    </tr>\n",
       "    <tr>\n",
       "      <th>3</th>\n",
       "      <td>Basically there's a family where a little boy ...</td>\n",
       "      <td>negative</td>\n",
       "    </tr>\n",
       "    <tr>\n",
       "      <th>4</th>\n",
       "      <td>Petter Mattei's \"Love in the Time of Money\" is...</td>\n",
       "      <td>positive</td>\n",
       "    </tr>\n",
       "    <tr>\n",
       "      <th>5</th>\n",
       "      <td>Probably my all-time favorite movie, a story o...</td>\n",
       "      <td>positive</td>\n",
       "    </tr>\n",
       "    <tr>\n",
       "      <th>6</th>\n",
       "      <td>I sure would like to see a resurrection of a u...</td>\n",
       "      <td>positive</td>\n",
       "    </tr>\n",
       "    <tr>\n",
       "      <th>7</th>\n",
       "      <td>This show was an amazing, fresh &amp; innovative i...</td>\n",
       "      <td>negative</td>\n",
       "    </tr>\n",
       "    <tr>\n",
       "      <th>8</th>\n",
       "      <td>Encouraged by the positive comments about this...</td>\n",
       "      <td>negative</td>\n",
       "    </tr>\n",
       "    <tr>\n",
       "      <th>9</th>\n",
       "      <td>If you like original gut wrenching laughter yo...</td>\n",
       "      <td>positive</td>\n",
       "    </tr>\n",
       "  </tbody>\n",
       "</table>\n",
       "</div>"
      ],
      "text/plain": [
       "                                              review sentiment\n",
       "0  One of the other reviewers has mentioned that ...  positive\n",
       "1  A wonderful little production. <br /><br />The...  positive\n",
       "2  I thought this was a wonderful way to spend ti...  positive\n",
       "3  Basically there's a family where a little boy ...  negative\n",
       "4  Petter Mattei's \"Love in the Time of Money\" is...  positive\n",
       "5  Probably my all-time favorite movie, a story o...  positive\n",
       "6  I sure would like to see a resurrection of a u...  positive\n",
       "7  This show was an amazing, fresh & innovative i...  negative\n",
       "8  Encouraged by the positive comments about this...  negative\n",
       "9  If you like original gut wrenching laughter yo...  positive"
      ]
     },
     "execution_count": 262,
     "metadata": {},
     "output_type": "execute_result"
    }
   ],
   "source": [
    "df.head(10)"
   ]
  },
  {
   "cell_type": "code",
   "execution_count": 261,
   "id": "18706d54",
   "metadata": {},
   "outputs": [
    {
     "data": {
      "text/plain": [
       "'A wonderful little production. <br /><br />The filming technique is very unassuming- very old-time-BBC fashion and gives a comforting, and sometimes discomforting, sense of realism to the entire piece. <br /><br />The actors are extremely well chosen- Michael Sheen not only \"has got all the polari\" but he has all the voices down pat too! You can truly see the seamless editing guided by the references to Williams\\' diary entries, not only is it well worth the watching but it is a terrificly written and performed piece. A masterful production about one of the great master\\'s of comedy and his life. <br /><br />The realism really comes home with the little things: the fantasy of the guard which, rather than use the traditional \\'dream\\' techniques remains solid then disappears. It plays on our knowledge and our senses, particularly with the scenes concerning Orton and Halliwell and the sets (particularly of their flat with Halliwell\\'s murals decorating every surface) are terribly well done.'"
      ]
     },
     "execution_count": 261,
     "metadata": {},
     "output_type": "execute_result"
    }
   ],
   "source": [
    "df['review'][1]"
   ]
  },
  {
   "cell_type": "markdown",
   "id": "c40467d0",
   "metadata": {},
   "source": [
    "# Data Preprocessing"
   ]
  },
  {
   "cell_type": "code",
   "execution_count": 263,
   "id": "78e4e39d",
   "metadata": {},
   "outputs": [
    {
     "data": {
      "text/html": [
       "<div>\n",
       "<style scoped>\n",
       "    .dataframe tbody tr th:only-of-type {\n",
       "        vertical-align: middle;\n",
       "    }\n",
       "\n",
       "    .dataframe tbody tr th {\n",
       "        vertical-align: top;\n",
       "    }\n",
       "\n",
       "    .dataframe thead th {\n",
       "        text-align: right;\n",
       "    }\n",
       "</style>\n",
       "<table border=\"1\" class=\"dataframe\">\n",
       "  <thead>\n",
       "    <tr style=\"text-align: right;\">\n",
       "      <th></th>\n",
       "      <th>review</th>\n",
       "      <th>sentiment</th>\n",
       "    </tr>\n",
       "  </thead>\n",
       "  <tbody>\n",
       "    <tr>\n",
       "      <th>0</th>\n",
       "      <td>This is a solid underrated little thriller, th...</td>\n",
       "      <td>positive</td>\n",
       "    </tr>\n",
       "    <tr>\n",
       "      <th>1</th>\n",
       "      <td>I was probably one of the few Australians not ...</td>\n",
       "      <td>positive</td>\n",
       "    </tr>\n",
       "    <tr>\n",
       "      <th>2</th>\n",
       "      <td>Michael Is King. This film contains some of th...</td>\n",
       "      <td>positive</td>\n",
       "    </tr>\n",
       "    <tr>\n",
       "      <th>3</th>\n",
       "      <td>This movie is similar to the play entitled 'Bl...</td>\n",
       "      <td>negative</td>\n",
       "    </tr>\n",
       "    <tr>\n",
       "      <th>4</th>\n",
       "      <td>Superb comic farce from Paul Mazursky, Richard...</td>\n",
       "      <td>positive</td>\n",
       "    </tr>\n",
       "    <tr>\n",
       "      <th>5</th>\n",
       "      <td>Although coming after three Star Wars, Krull &amp;...</td>\n",
       "      <td>negative</td>\n",
       "    </tr>\n",
       "    <tr>\n",
       "      <th>6</th>\n",
       "      <td>The cast for this production of Rigoletto is e...</td>\n",
       "      <td>positive</td>\n",
       "    </tr>\n",
       "    <tr>\n",
       "      <th>7</th>\n",
       "      <td>I was aware of Man of the Year's critical pans...</td>\n",
       "      <td>negative</td>\n",
       "    </tr>\n",
       "    <tr>\n",
       "      <th>8</th>\n",
       "      <td>I grew up in New York and this show came on wh...</td>\n",
       "      <td>positive</td>\n",
       "    </tr>\n",
       "    <tr>\n",
       "      <th>9</th>\n",
       "      <td>I have waited a long time to see this movie. I...</td>\n",
       "      <td>negative</td>\n",
       "    </tr>\n",
       "  </tbody>\n",
       "</table>\n",
       "</div>"
      ],
      "text/plain": [
       "                                              review sentiment\n",
       "0  This is a solid underrated little thriller, th...  positive\n",
       "1  I was probably one of the few Australians not ...  positive\n",
       "2  Michael Is King. This film contains some of th...  positive\n",
       "3  This movie is similar to the play entitled 'Bl...  negative\n",
       "4  Superb comic farce from Paul Mazursky, Richard...  positive\n",
       "5  Although coming after three Star Wars, Krull &...  negative\n",
       "6  The cast for this production of Rigoletto is e...  positive\n",
       "7  I was aware of Man of the Year's critical pans...  negative\n",
       "8  I grew up in New York and this show came on wh...  positive\n",
       "9  I have waited a long time to see this movie. I...  negative"
      ]
     },
     "execution_count": 263,
     "metadata": {},
     "output_type": "execute_result"
    }
   ],
   "source": [
    "shuffled_indices = np.random.permutation(len(df))\n",
    "shuffled_df = df.iloc[shuffled_indices].reset_index(drop=True)\n",
    "shuffled_df.head(10)"
   ]
  },
  {
   "cell_type": "code",
   "execution_count": 264,
   "id": "1cf827f2",
   "metadata": {},
   "outputs": [],
   "source": [
    "#Replacing Sentiments with 0 and 1 to make our data compatible for machine learning model to work with\n",
    "shuffled_df['sentiment'].replace({'positive':0,'negative':1},inplace=True)"
   ]
  },
  {
   "cell_type": "code",
   "execution_count": 265,
   "id": "1cc64667",
   "metadata": {
    "scrolled": true
   },
   "outputs": [
    {
     "data": {
      "text/html": [
       "<div>\n",
       "<style scoped>\n",
       "    .dataframe tbody tr th:only-of-type {\n",
       "        vertical-align: middle;\n",
       "    }\n",
       "\n",
       "    .dataframe tbody tr th {\n",
       "        vertical-align: top;\n",
       "    }\n",
       "\n",
       "    .dataframe thead th {\n",
       "        text-align: right;\n",
       "    }\n",
       "</style>\n",
       "<table border=\"1\" class=\"dataframe\">\n",
       "  <thead>\n",
       "    <tr style=\"text-align: right;\">\n",
       "      <th></th>\n",
       "      <th>review</th>\n",
       "      <th>sentiment</th>\n",
       "    </tr>\n",
       "  </thead>\n",
       "  <tbody>\n",
       "    <tr>\n",
       "      <th>0</th>\n",
       "      <td>This is a solid underrated little thriller, th...</td>\n",
       "      <td>0</td>\n",
       "    </tr>\n",
       "    <tr>\n",
       "      <th>1</th>\n",
       "      <td>I was probably one of the few Australians not ...</td>\n",
       "      <td>0</td>\n",
       "    </tr>\n",
       "    <tr>\n",
       "      <th>2</th>\n",
       "      <td>Michael Is King. This film contains some of th...</td>\n",
       "      <td>0</td>\n",
       "    </tr>\n",
       "    <tr>\n",
       "      <th>3</th>\n",
       "      <td>This movie is similar to the play entitled 'Bl...</td>\n",
       "      <td>1</td>\n",
       "    </tr>\n",
       "    <tr>\n",
       "      <th>4</th>\n",
       "      <td>Superb comic farce from Paul Mazursky, Richard...</td>\n",
       "      <td>0</td>\n",
       "    </tr>\n",
       "    <tr>\n",
       "      <th>5</th>\n",
       "      <td>Although coming after three Star Wars, Krull &amp;...</td>\n",
       "      <td>1</td>\n",
       "    </tr>\n",
       "    <tr>\n",
       "      <th>6</th>\n",
       "      <td>The cast for this production of Rigoletto is e...</td>\n",
       "      <td>0</td>\n",
       "    </tr>\n",
       "    <tr>\n",
       "      <th>7</th>\n",
       "      <td>I was aware of Man of the Year's critical pans...</td>\n",
       "      <td>1</td>\n",
       "    </tr>\n",
       "    <tr>\n",
       "      <th>8</th>\n",
       "      <td>I grew up in New York and this show came on wh...</td>\n",
       "      <td>0</td>\n",
       "    </tr>\n",
       "    <tr>\n",
       "      <th>9</th>\n",
       "      <td>I have waited a long time to see this movie. I...</td>\n",
       "      <td>1</td>\n",
       "    </tr>\n",
       "  </tbody>\n",
       "</table>\n",
       "</div>"
      ],
      "text/plain": [
       "                                              review  sentiment\n",
       "0  This is a solid underrated little thriller, th...          0\n",
       "1  I was probably one of the few Australians not ...          0\n",
       "2  Michael Is King. This film contains some of th...          0\n",
       "3  This movie is similar to the play entitled 'Bl...          1\n",
       "4  Superb comic farce from Paul Mazursky, Richard...          0\n",
       "5  Although coming after three Star Wars, Krull &...          1\n",
       "6  The cast for this production of Rigoletto is e...          0\n",
       "7  I was aware of Man of the Year's critical pans...          1\n",
       "8  I grew up in New York and this show came on wh...          0\n",
       "9  I have waited a long time to see this movie. I...          1"
      ]
     },
     "execution_count": 265,
     "metadata": {},
     "output_type": "execute_result"
    }
   ],
   "source": [
    "shuffled_df.head(10)"
   ]
  },
  {
   "cell_type": "code",
   "execution_count": 266,
   "id": "b8bb40b4",
   "metadata": {},
   "outputs": [],
   "source": [
    "x=shuffled_df.review\n",
    "y=shuffled_df.sentiment"
   ]
  },
  {
   "cell_type": "markdown",
   "id": "5f3a404b",
   "metadata": {},
   "source": [
    "# Visualization of Data Clasess"
   ]
  },
  {
   "cell_type": "code",
   "execution_count": 267,
   "id": "8fa4e4a3",
   "metadata": {},
   "outputs": [
    {
     "data": {
      "image/png": "[encoded data removed]",
      "text/plain": [
       "<Figure size 600x400 with 1 Axes>"
      ]
     },
     "metadata": {},
     "output_type": "display_data"
    }
   ],
   "source": [
    "import numpy as np\n",
    "import matplotlib.pyplot as plt\n",
    "import seaborn as sns\n",
    "y = np.array(y)\n",
    "classes = ['Negative', 'Positive']\n",
    "# Converting numerical labels to class labels\n",
    "y_labels = [classes[label] for label in y]\n",
    "# Create a countplot with custom colors\n",
    "plt.figure(figsize=(6, 4))\n",
    "sns.countplot(x=y_labels, palette={'Negative': 'red', 'Positive': 'green'})\n",
    "plt.xticks([0, 1], classes)\n",
    "plt.xlabel('Class')\n",
    "plt.ylabel('Count')\n",
    "plt.title('Class Distribution')\n",
    "plt.show()"
   ]
  },
  {
   "cell_type": "markdown",
   "id": "1f23d2b9",
   "metadata": {},
   "source": [
    "Here a  series of preprocessing steps are applied to a text dataset, including the removal of non-word characters, conversion to lowercase, stripping HTML tags, eliminating single-letter words between spaces, removing single-letter words before spaces, and reducing multiple spaces to single spaces. These transformations are essential for cleaning and standardizing text data, preparing it for subsequent analysis, such as sentiment analysis."
   ]
  },
  {
   "cell_type": "code",
   "execution_count": 268,
   "id": "779d659c",
   "metadata": {},
   "outputs": [],
   "source": [
    "corpus=[]\n",
    "for i in range(0,50000):\n",
    "    rev=re.sub(r'\\W',' ',str(x[i]))    #removing all non words characters\n",
    "    rev=rev.lower()                    #converting to lower case\n",
    "    rev=re.sub(r'<.*?>', '',rev)       #removing all html tags\n",
    "    rev=re.sub(r'\\s+[a-z]\\s+',' ',rev) #removing all single words between spaces\n",
    "    rev=re.sub(r'^[a-z]\\s+',' ',rev)   #removing all single words before the space\n",
    "    rev=re.sub(r'\\s+',' ',rev)         #removing all extra spaces\n",
    "    corpus.append(rev)"
   ]
  },
  {
   "cell_type": "markdown",
   "id": "66076894",
   "metadata": {},
   "source": [
    "# Converting to Bag of Words models"
   ]
  },
  {
   "cell_type": "code",
   "execution_count": 269,
   "id": "e5e1e8c3",
   "metadata": {},
   "outputs": [],
   "source": [
    "vectorizer=CountVectorizer(max_features=4000,max_df=0.50,min_df=3,stop_words=stopwords.words('english'))\n",
    "x=vectorizer.fit_transform(corpus).toarray()"
   ]
  },
  {
   "cell_type": "code",
   "execution_count": 284,
   "id": "89fa0267",
   "metadata": {},
   "outputs": [],
   "source": [
    "from sklearn.model_selection import train_test_split\n",
    "x_train,x_test,y_train,y_test=train_test_split(x,y,test_size=0.2,random_state=45)"
   ]
  },
  {
   "cell_type": "markdown",
   "id": "eed9d4b6",
   "metadata": {},
   "source": [
    "# Fitting Naive Bayes Models "
   ]
  },
  {
   "cell_type": "code",
   "execution_count": 285,
   "id": "d6521250",
   "metadata": {},
   "outputs": [],
   "source": [
    "from sklearn.naive_bayes import GaussianNB,BernoulliNB,MultinomialNB,ComplementNB"
   ]
  },
  {
   "cell_type": "markdown",
   "id": "e819df81",
   "metadata": {},
   "source": [
    "# BernoulliNB Model"
   ]
  },
  {
   "cell_type": "code",
   "execution_count": 307,
   "id": "07069975",
   "metadata": {},
   "outputs": [],
   "source": [
    "clf_G=BernoulliNB(alpha=0.5)"
   ]
  },
  {
   "cell_type": "code",
   "execution_count": 308,
   "id": "aebca9b9",
   "metadata": {},
   "outputs": [],
   "source": [
    "clf_G.fit(x_train,y_train);"
   ]
  },
  {
   "cell_type": "markdown",
   "id": "3aba3005",
   "metadata": {},
   "source": [
    "# Model Evaluation"
   ]
  },
  {
   "cell_type": "code",
   "execution_count": 309,
   "id": "fd912d9d",
   "metadata": {},
   "outputs": [
    {
     "name": "stdout",
     "output_type": "stream",
     "text": [
      "Accuracy: 85.88\n"
     ]
    }
   ],
   "source": [
    "accuracy=clf_G.score(x_test,y_test)\n",
    "print('Accuracy:',accuracy*100)"
   ]
  },
  {
   "cell_type": "code",
   "execution_count": 310,
   "id": "3274cb27",
   "metadata": {},
   "outputs": [],
   "source": [
    "y_preds=clf_G.predict(x_test)"
   ]
  },
  {
   "cell_type": "code",
   "execution_count": 311,
   "id": "9ee7c382",
   "metadata": {},
   "outputs": [],
   "source": [
    "from sklearn.metrics import confusion_matrix,classification_report,accuracy_score\n",
    "import seaborn as sns"
   ]
  },
  {
   "cell_type": "code",
   "execution_count": 312,
   "id": "4564840f",
   "metadata": {},
   "outputs": [
    {
     "data": {
      "text/plain": [
       "<Axes: >"
      ]
     },
     "execution_count": 312,
     "metadata": {},
     "output_type": "execute_result"
    },
    {
     "data": {
      "image/png": "[encoded data removed]",
      "text/plain": [
       "<Figure size 640x480 with 2 Axes>"
      ]
     },
     "metadata": {},
     "output_type": "display_data"
    }
   ],
   "source": [
    "cm=confusion_matrix(y_test,y_preds)\n",
    "sns.heatmap(cm,annot=True,cmap='coolwarm')"
   ]
  },
  {
   "cell_type": "markdown",
   "id": "bbd69575",
   "metadata": {},
   "source": [
    "# Classification Report of BernoulliNB"
   ]
  },
  {
   "cell_type": "code",
   "execution_count": 313,
   "id": "c08a52c7",
   "metadata": {},
   "outputs": [
    {
     "name": "stdout",
     "output_type": "stream",
     "text": [
      "classification Report:               precision    recall  f1-score   support\n",
      "\n",
      "           0       0.86      0.86      0.86      5071\n",
      "           1       0.86      0.85      0.86      4929\n",
      "\n",
      "    accuracy                           0.86     10000\n",
      "   macro avg       0.86      0.86      0.86     10000\n",
      "weighted avg       0.86      0.86      0.86     10000\n",
      "\n"
     ]
    }
   ],
   "source": [
    "cr=classification_report(y_test,y_preds)\n",
    "print('classification Report:',cr)"
   ]
  },
  {
   "cell_type": "markdown",
   "id": "5e6f0b94",
   "metadata": {},
   "source": [
    "# GaussianNB Model"
   ]
  },
  {
   "cell_type": "code",
   "execution_count": 193,
   "id": "664ca8b1",
   "metadata": {},
   "outputs": [],
   "source": [
    "clf_NB=GaussianNB()"
   ]
  },
  {
   "cell_type": "code",
   "execution_count": 194,
   "id": "05d4eeb6",
   "metadata": {},
   "outputs": [],
   "source": [
    "clf_NB.fit(x_train,y_train);"
   ]
  },
  {
   "cell_type": "markdown",
   "id": "2b55abb7",
   "metadata": {},
   "source": [
    "# Model Evaluation"
   ]
  },
  {
   "cell_type": "code",
   "execution_count": 197,
   "id": "27b69550",
   "metadata": {},
   "outputs": [
    {
     "name": "stdout",
     "output_type": "stream",
     "text": [
      "Accuracy: 75.57000000000001\n"
     ]
    }
   ],
   "source": [
    "Accuracy=clf_NB.score(x_test,y_test)\n",
    "print('Accuracy:',Accuracy*100)"
   ]
  },
  {
   "cell_type": "code",
   "execution_count": 198,
   "id": "5f9833c4",
   "metadata": {},
   "outputs": [],
   "source": [
    "y_preds=clf_NB.predict(x_test)"
   ]
  },
  {
   "cell_type": "code",
   "execution_count": 199,
   "id": "b9b0cde3",
   "metadata": {},
   "outputs": [
    {
     "data": {
      "text/plain": [
       "<Axes: >"
      ]
     },
     "execution_count": 199,
     "metadata": {},
     "output_type": "execute_result"
    },
    {
     "data": {
      "image/png": "[encoded data removed]",
      "text/plain": [
       "<Figure size 640x480 with 2 Axes>"
      ]
     },
     "metadata": {},
     "output_type": "display_data"
    }
   ],
   "source": [
    "cm=confusion_matrix(y_test,y_preds)\n",
    "sns.heatmap(cm,annot=True,cmap='Blues')"
   ]
  },
  {
   "cell_type": "code",
   "execution_count": 200,
   "id": "621b785e",
   "metadata": {},
   "outputs": [
    {
     "name": "stdout",
     "output_type": "stream",
     "text": [
      "classification Report:               precision    recall  f1-score   support\n",
      "\n",
      "           0       0.83      0.66      0.73      5061\n",
      "           1       0.71      0.86      0.78      4939\n",
      "\n",
      "    accuracy                           0.76     10000\n",
      "   macro avg       0.77      0.76      0.75     10000\n",
      "weighted avg       0.77      0.76      0.75     10000\n",
      "\n"
     ]
    }
   ],
   "source": [
    "cr=classification_report(y_test,y_preds)\n",
    "print('classification Report:',cr)"
   ]
  },
  {
   "cell_type": "markdown",
   "id": "982a10d3",
   "metadata": {},
   "source": [
    "# MultinomialNB Model"
   ]
  },
  {
   "cell_type": "code",
   "execution_count": 201,
   "id": "fdb841cb",
   "metadata": {},
   "outputs": [],
   "source": [
    "clf_M=MultinomialNB()"
   ]
  },
  {
   "cell_type": "code",
   "execution_count": 203,
   "id": "aedd3549",
   "metadata": {},
   "outputs": [],
   "source": [
    "clf_M.fit(x_train,y_train);"
   ]
  },
  {
   "cell_type": "markdown",
   "id": "89a124c8",
   "metadata": {},
   "source": [
    "# Model Evaluation"
   ]
  },
  {
   "cell_type": "code",
   "execution_count": 206,
   "id": "e703ffb9",
   "metadata": {},
   "outputs": [
    {
     "name": "stdout",
     "output_type": "stream",
     "text": [
      "Accuracy: 85.35000000000001\n"
     ]
    }
   ],
   "source": [
    "Accuracy=clf_M.score(x_test,y_test)\n",
    "print('Accuracy:',Accuracy*100)"
   ]
  },
  {
   "cell_type": "code",
   "execution_count": 209,
   "id": "c609e576",
   "metadata": {},
   "outputs": [],
   "source": [
    "y_pred=clf_M.predict(x_test)"
   ]
  },
  {
   "cell_type": "code",
   "execution_count": 222,
   "id": "d66cc9f9",
   "metadata": {},
   "outputs": [
    {
     "data": {
      "text/plain": [
       "<Axes: >"
      ]
     },
     "execution_count": 222,
     "metadata": {},
     "output_type": "execute_result"
    },
    {
     "data": {
      "image/png": "[encoded data removed]",
      "text/plain": [
       "<Figure size 640x480 with 2 Axes>"
      ]
     },
     "metadata": {},
     "output_type": "display_data"
    }
   ],
   "source": [
    "cm=confusion_matrix(y_test,y_pred)\n",
    "sns.heatmap(cm,annot=True,cmap='Greens')"
   ]
  },
  {
   "cell_type": "markdown",
   "id": "aada27a1",
   "metadata": {},
   "source": [
    "# Classification Report"
   ]
  },
  {
   "cell_type": "code",
   "execution_count": 210,
   "id": "be1adf94",
   "metadata": {},
   "outputs": [
    {
     "name": "stdout",
     "output_type": "stream",
     "text": [
      "classification Report:               precision    recall  f1-score   support\n",
      "\n",
      "           0       0.86      0.85      0.86      5061\n",
      "           1       0.85      0.85      0.85      4939\n",
      "\n",
      "    accuracy                           0.85     10000\n",
      "   macro avg       0.85      0.85      0.85     10000\n",
      "weighted avg       0.85      0.85      0.85     10000\n",
      "\n"
     ]
    }
   ],
   "source": [
    "cr=classification_report(y_test,y_pred)\n",
    "print('classification Report:',cr)"
   ]
  },
  {
   "cell_type": "markdown",
   "id": "f53ec315",
   "metadata": {},
   "source": [
    "# ComplementNB Model"
   ]
  },
  {
   "cell_type": "code",
   "execution_count": 224,
   "id": "c0be369c",
   "metadata": {},
   "outputs": [],
   "source": [
    "clf_C=ComplementNB()"
   ]
  },
  {
   "cell_type": "code",
   "execution_count": 227,
   "id": "a11889fa",
   "metadata": {},
   "outputs": [],
   "source": [
    "clf_C.fit(x_train,y_train);"
   ]
  },
  {
   "cell_type": "markdown",
   "id": "bbfc13cf",
   "metadata": {},
   "source": [
    "# Model Evlauation"
   ]
  },
  {
   "cell_type": "code",
   "execution_count": 230,
   "id": "b4e82034",
   "metadata": {},
   "outputs": [],
   "source": [
    "y_prob=clf_C.predict(x_test)"
   ]
  },
  {
   "cell_type": "code",
   "execution_count": 235,
   "id": "9e63befe",
   "metadata": {
    "scrolled": true
   },
   "outputs": [
    {
     "name": "stdout",
     "output_type": "stream",
     "text": [
      "Accuracy: 85.35000000000001\n"
     ]
    }
   ],
   "source": [
    "Accuracy=clf_C.score(x_test,y_test)\n",
    "print('Accuracy:',Accuracy*100)"
   ]
  },
  {
   "cell_type": "code",
   "execution_count": 242,
   "id": "817fae34",
   "metadata": {},
   "outputs": [
    {
     "data": {
      "text/plain": [
       "<Axes: >"
      ]
     },
     "execution_count": 242,
     "metadata": {},
     "output_type": "execute_result"
    },
    {
     "data": {
      "image/png": "[encoded data removed]",
      "text/plain": [
       "<Figure size 640x480 with 2 Axes>"
      ]
     },
     "metadata": {},
     "output_type": "display_data"
    }
   ],
   "source": [
    "cm=confusion_matrix(y_test,y_prob)\n",
    "sns.heatmap(cm,annot=True,cmap='Reds')"
   ]
  },
  {
   "cell_type": "markdown",
   "id": "b3f1d5cd",
   "metadata": {},
   "source": [
    "# Classification Report"
   ]
  },
  {
   "cell_type": "code",
   "execution_count": 244,
   "id": "b501ee12",
   "metadata": {
    "scrolled": true
   },
   "outputs": [
    {
     "name": "stdout",
     "output_type": "stream",
     "text": [
      "classification Report:               precision    recall  f1-score   support\n",
      "\n",
      "           0       0.86      0.85      0.86      5061\n",
      "           1       0.85      0.85      0.85      4939\n",
      "\n",
      "    accuracy                           0.85     10000\n",
      "   macro avg       0.85      0.85      0.85     10000\n",
      "weighted avg       0.85      0.85      0.85     10000\n",
      "\n"
     ]
    }
   ],
   "source": [
    "cr=classification_report(y_test,y_prob)\n",
    "print('classification Report:',cr)"
   ]
  },
  {
   "cell_type": "markdown",
   "id": "4e9b18af",
   "metadata": {},
   "source": [
    "# Comparison of Models' Accuracy "
   ]
  },
  {
   "cell_type": "code",
   "execution_count": 334,
   "id": "19fbcd8d",
   "metadata": {},
   "outputs": [
    {
     "data": {
      "image/png": "[encoded data removed]",
      "text/plain": [
       "<Figure size 640x480 with 1 Axes>"
      ]
     },
     "metadata": {},
     "output_type": "display_data"
    }
   ],
   "source": [
    "import matplotlib.pyplot as plt\n",
    "classifier_names = ['GaussianNB', 'BernoulliNB', 'MultinomialNB', 'ComplementNB']\n",
    "accuracy_scores = [75.57, 85.88, 85.35, 85.35]\n",
    "# Plot the accuracy scores\n",
    "plt.bar(classifier_names, accuracy_scores, color=['blue', 'green', 'orange', 'red'])\n",
    "plt.xlabel('Naive Bayes Classifiers')\n",
    "plt.ylabel('Accuracy')\n",
    "plt.title('Accuracy Comparison of Naive Bayes Classifiers')\n",
    "plt.yticks(range(20,90, 5))\n",
    "plt.show()"
   ]
  },
  {
   "cell_type": "markdown",
   "id": "2ace46ef",
   "metadata": {},
   "source": [
    "# Conclusion"
   ]
  },
  {
   "cell_type": "markdown",
   "id": "a1045057",
   "metadata": {},
   "source": [
    " In the performance comparison of Naive Bayes classifiers, we used a bar chart to visualize the accuracy scores of four classifiers: GaussianNB, BernoulliNB, MultinomialNB, and ComplementNB. The chart clearly illustrates how these classifiers perform on a given task. BernoulliNB achieved the highest accuracy at 85.75%, followed closely by MultinomialNB and ComplementNB, both at 85.35%. GaussianNB, while still performing decently, had the lowest accuracy score at 75.57%. The chart helps us quickly assess and compare their performance"
   ]
  },
  {
   "cell_type": "markdown",
   "id": "4ea05c5d",
   "metadata": {},
   "source": [
    "# Testing our Model/Deployemet "
   ]
  },
  {
   "cell_type": "code",
   "execution_count": 337,
   "id": "bcce9bc8",
   "metadata": {},
   "outputs": [],
   "source": [
    "import pickle \n",
    "with open('NB_claassifier.pickle','wb') as f:\n",
    "    pickle.dump(clf_G,f)"
   ]
  },
  {
   "cell_type": "code",
   "execution_count": 338,
   "id": "f62d4980",
   "metadata": {},
   "outputs": [],
   "source": [
    "with open('vec.pickle','wb') as f:\n",
    "    pickle.dump(vectorizer,f)"
   ]
  },
  {
   "cell_type": "code",
   "execution_count": 339,
   "id": "ba6606fb",
   "metadata": {},
   "outputs": [],
   "source": [
    "#unpickling our model to test input text\n",
    "with open('NB_claassifier.pickle','rb') as f:\n",
    "    clf=pickle.load(f)"
   ]
  },
  {
   "cell_type": "code",
   "execution_count": 340,
   "id": "86df1b5b",
   "metadata": {},
   "outputs": [],
   "source": [
    "with open('vec.pickle','rb') as f:\n",
    "    bow=pickle.load(f)"
   ]
  },
  {
   "cell_type": "code",
   "execution_count": 388,
   "id": "f0beaca7",
   "metadata": {},
   "outputs": [],
   "source": [
    "sample=['''I watched that movie last night, and it was a\n",
    "complete disappointment. it was good movie.The storyline was weak, the\n",
    "acting was subpar, and I found myself bored throughout\n",
    "the entire film.I wouldn't recommend wasting your time on it.''']"
   ]
  },
  {
   "cell_type": "code",
   "execution_count": 389,
   "id": "5b65c9eb",
   "metadata": {},
   "outputs": [],
   "source": [
    "sample=bow.transform(sample).toarray()"
   ]
  },
  {
   "cell_type": "code",
   "execution_count": 390,
   "id": "b5490aed",
   "metadata": {},
   "outputs": [],
   "source": [
    "prob=clf.predict(sample)"
   ]
  },
  {
   "cell_type": "code",
   "execution_count": 392,
   "id": "42f7b00f",
   "metadata": {},
   "outputs": [
    {
     "name": "stdout",
     "output_type": "stream",
     "text": [
      "Negative Review\n"
     ]
    }
   ],
   "source": [
    "prediction='Negative' if prob ==1 else 'Postive'\n",
    "print(f'{prediction} Review')"
   ]
  }
 ],
 "metadata": {
  "kernelspec": {
   "display_name": "Python 3 (ipykernel)",
   "language": "python",
   "name": "python3"
  },
  "language_info": {
   "codemirror_mode": {
    "name": "ipython",
    "version": 3
   },
   "file_extension": ".py",
   "mimetype": "text/x-python",
   "name": "python",
   "nbconvert_exporter": "python",
   "pygments_lexer": "ipython3",
   "version": "3.11.4"
  }
 },
 "nbformat": 4,
 "nbformat_minor": 5
}
